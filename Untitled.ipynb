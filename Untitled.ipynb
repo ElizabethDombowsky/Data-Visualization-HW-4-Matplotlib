{
 "cells": [
  {
   "cell_type": "markdown",
   "id": "1aeba4d3",
   "metadata": {},
   "source": [
    "# Matplotlib Data Visuals\n",
    "Elizabeth Dombowsky"
   ]
  },
  {
   "cell_type": "code",
   "execution_count": 3,
   "id": "8bd42eb6",
   "metadata": {},
   "outputs": [],
   "source": [
    "# import packages\n",
    "import pandas as pd\n",
    "import matplotlib.pyplot as plt\n",
    "\n",
    "%matplotlib inline\n",
    "\n",
    "#import dataset \n",
    "df = pd.read_csv(\"/Users/elizabethdombowsky/Desktop/Business Data.csv\", delimiter=\",\")"
   ]
  },
  {
   "cell_type": "markdown",
   "id": "b11f8525",
   "metadata": {},
   "source": [
    "# View Data"
   ]
  },
  {
   "cell_type": "code",
   "execution_count": 4,
   "id": "1fecd7c5",
   "metadata": {},
   "outputs": [
    {
     "data": {
      "text/html": [
       "<div>\n",
       "<style scoped>\n",
       "    .dataframe tbody tr th:only-of-type {\n",
       "        vertical-align: middle;\n",
       "    }\n",
       "\n",
       "    .dataframe tbody tr th {\n",
       "        vertical-align: top;\n",
       "    }\n",
       "\n",
       "    .dataframe thead th {\n",
       "        text-align: right;\n",
       "    }\n",
       "</style>\n",
       "<table border=\"1\" class=\"dataframe\">\n",
       "  <thead>\n",
       "    <tr style=\"text-align: right;\">\n",
       "      <th></th>\n",
       "      <th>Year</th>\n",
       "      <th>Sales</th>\n",
       "      <th>Country</th>\n",
       "      <th>Industry</th>\n",
       "    </tr>\n",
       "  </thead>\n",
       "  <tbody>\n",
       "    <tr>\n",
       "      <th>0</th>\n",
       "      <td>2010</td>\n",
       "      <td>1594098</td>\n",
       "      <td>US</td>\n",
       "      <td>Technology</td>\n",
       "    </tr>\n",
       "    <tr>\n",
       "      <th>1</th>\n",
       "      <td>2010</td>\n",
       "      <td>2000000</td>\n",
       "      <td>CA</td>\n",
       "      <td>Retail</td>\n",
       "    </tr>\n",
       "    <tr>\n",
       "      <th>2</th>\n",
       "      <td>2010</td>\n",
       "      <td>4509872</td>\n",
       "      <td>FR</td>\n",
       "      <td>Education</td>\n",
       "    </tr>\n",
       "    <tr>\n",
       "      <th>3</th>\n",
       "      <td>2010</td>\n",
       "      <td>9875041</td>\n",
       "      <td>IT</td>\n",
       "      <td>Ecommerce</td>\n",
       "    </tr>\n",
       "  </tbody>\n",
       "</table>\n",
       "</div>"
      ],
      "text/plain": [
       "   Year    Sales Country    Industry\n",
       "0  2010  1594098      US  Technology\n",
       "1  2010  2000000      CA      Retail\n",
       "2  2010  4509872      FR   Education\n",
       "3  2010  9875041      IT   Ecommerce"
      ]
     },
     "execution_count": 4,
     "metadata": {},
     "output_type": "execute_result"
    }
   ],
   "source": [
    "df"
   ]
  },
  {
   "cell_type": "code",
   "execution_count": 6,
   "id": "a526a75f",
   "metadata": {},
   "outputs": [
    {
     "data": {
      "text/html": [
       "<div>\n",
       "<style scoped>\n",
       "    .dataframe tbody tr th:only-of-type {\n",
       "        vertical-align: middle;\n",
       "    }\n",
       "\n",
       "    .dataframe tbody tr th {\n",
       "        vertical-align: top;\n",
       "    }\n",
       "\n",
       "    .dataframe thead th {\n",
       "        text-align: right;\n",
       "    }\n",
       "</style>\n",
       "<table border=\"1\" class=\"dataframe\">\n",
       "  <thead>\n",
       "    <tr style=\"text-align: right;\">\n",
       "      <th></th>\n",
       "      <th>Year</th>\n",
       "      <th>Sales</th>\n",
       "    </tr>\n",
       "  </thead>\n",
       "  <tbody>\n",
       "    <tr>\n",
       "      <th>count</th>\n",
       "      <td>4.0</td>\n",
       "      <td>4.000000e+00</td>\n",
       "    </tr>\n",
       "    <tr>\n",
       "      <th>mean</th>\n",
       "      <td>2010.0</td>\n",
       "      <td>4.494753e+06</td>\n",
       "    </tr>\n",
       "    <tr>\n",
       "      <th>std</th>\n",
       "      <td>0.0</td>\n",
       "      <td>3.811619e+06</td>\n",
       "    </tr>\n",
       "    <tr>\n",
       "      <th>min</th>\n",
       "      <td>2010.0</td>\n",
       "      <td>1.594098e+06</td>\n",
       "    </tr>\n",
       "    <tr>\n",
       "      <th>25%</th>\n",
       "      <td>2010.0</td>\n",
       "      <td>1.898524e+06</td>\n",
       "    </tr>\n",
       "    <tr>\n",
       "      <th>50%</th>\n",
       "      <td>2010.0</td>\n",
       "      <td>3.254936e+06</td>\n",
       "    </tr>\n",
       "    <tr>\n",
       "      <th>75%</th>\n",
       "      <td>2010.0</td>\n",
       "      <td>5.851164e+06</td>\n",
       "    </tr>\n",
       "    <tr>\n",
       "      <th>max</th>\n",
       "      <td>2010.0</td>\n",
       "      <td>9.875041e+06</td>\n",
       "    </tr>\n",
       "  </tbody>\n",
       "</table>\n",
       "</div>"
      ],
      "text/plain": [
       "         Year         Sales\n",
       "count     4.0  4.000000e+00\n",
       "mean   2010.0  4.494753e+06\n",
       "std       0.0  3.811619e+06\n",
       "min    2010.0  1.594098e+06\n",
       "25%    2010.0  1.898524e+06\n",
       "50%    2010.0  3.254936e+06\n",
       "75%    2010.0  5.851164e+06\n",
       "max    2010.0  9.875041e+06"
      ]
     },
     "execution_count": 6,
     "metadata": {},
     "output_type": "execute_result"
    }
   ],
   "source": [
    "df.describe()"
   ]
  },
  {
   "cell_type": "markdown",
   "id": "1e50c43d",
   "metadata": {},
   "source": [
    "# Create Visuals"
   ]
  },
  {
   "cell_type": "code",
   "execution_count": 8,
   "id": "54a7a94e",
   "metadata": {},
   "outputs": [
    {
     "data": {
      "image/png": "[encoded data removed]",
      "text/plain": [
       "<Figure size 432x288 with 1 Axes>"
      ]
     },
     "metadata": {
      "needs_background": "light"
     },
     "output_type": "display_data"
    }
   ],
   "source": [
    "# Look at total sales by Country\n",
    "import matplotlib.pyplot as mpl\n",
    "df.plot(x=\"Country\", y=\"Sales\", kind=\"bar\", color = [\"lightgrey\", \"lightgrey\", \"lightgrey\", \"darkcyan\"])\n",
    "mpl.rcParams['font.size'] = 15\n",
    "plt.title('Sales By Country')\n",
    "\n",
    "plt.show()"
   ]
  },
  {
   "cell_type": "markdown",
   "id": "6112c274",
   "metadata": {},
   "source": [
    "# Create Visual of Sales over Time "
   ]
  },
  {
   "cell_type": "code",
   "execution_count": 210,
   "id": "fb90ca06",
   "metadata": {},
   "outputs": [
    {
     "data": {
      "text/plain": [
       "<matplotlib.legend.Legend at 0x7fa7c98509d0>"
      ]
     },
     "execution_count": 210,
     "metadata": {},
     "output_type": "execute_result"
    },
    {
     "data": {
      "image/png": "[encoded data removed]",
      "text/plain": [
       "<Figure size 432x288 with 1 Axes>"
      ]
     },
     "metadata": {
      "needs_background": "light"
     },
     "output_type": "display_data"
    }
   ],
   "source": [
    "x=range(2011,2016)\n",
    "US=[3200000,401245,6138921,123876,567392]\n",
    "CA=[2987347,3283729,4398238,10909212,12981238]\n",
    "PE=[3936178,5342831,9832031,6283912,3283729]\n",
    "IT=[2936178,1342831,5832031,3283912,2283729]\n",
    "\n",
    "# Basic stacked area chart.\n",
    "plt.stackplot(x,US, CA, PE,IT, labels=['US','CA','FR', 'IT'])\n",
    "plt.legend(loc='upper left')"
   ]
  },
  {
   "cell_type": "markdown",
   "id": "3eecc845",
   "metadata": {},
   "source": [
    "# Visual of Industry  Sales"
   ]
  },
  {
   "cell_type": "code",
   "execution_count": 211,
   "id": "16288a07",
   "metadata": {
    "scrolled": true
   },
   "outputs": [
    {
     "data": {
      "image/png": "[encoded data removed]",
      "text/plain": [
       "<Figure size 432x288 with 1 Axes>"
      ]
     },
     "metadata": {
      "needs_background": "light"
     },
     "output_type": "display_data"
    }
   ],
   "source": [
    "df.plot(x=\"Industry\", y=\"Sales\", kind=\"bar\", color = [\"lightgrey\", \"lightgrey\", \"lightgrey\", \"darkcyan\"])\n",
    "mpl.rcParams['font.size'] = 8"
   ]
  }
 ],
 "metadata": {
  "kernelspec": {
   "display_name": "Python 3 (ipykernel)",
   "language": "python",
   "name": "python3"
  },
  "language_info": {
   "codemirror_mode": {
    "name": "ipython",
    "version": 3
   },
   "file_extension": ".py",
   "mimetype": "text/x-python",
   "name": "python",
   "nbconvert_exporter": "python",
   "pygments_lexer": "ipython3",
   "version": "3.8.8"
  }
 },
 "nbformat": 4,
 "nbformat_minor": 5
}
